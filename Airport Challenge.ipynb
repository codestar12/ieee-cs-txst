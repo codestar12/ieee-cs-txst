{
 "cells": [
  {
   "cell_type": "code",
   "execution_count": 1,
   "metadata": {
    "collapsed": false
   },
   "outputs": [],
   "source": [
    "import random\n",
    "import numpy as np\n",
    "import math"
   ]
  },
  {
   "cell_type": "code",
   "execution_count": 43,
   "metadata": {
    "collapsed": false
   },
   "outputs": [],
   "source": [
    "def gen_problem_input(n, m):\n",
    "    #Generate input for the airport problem\n",
    "    #n airports, m flights\n",
    "    \n",
    "    input_s = \"\"\n",
    "    \n",
    "    #first line is n, m\n",
    "    input_s += str(n) + \" \" + str(m) + \"\\n\"\n",
    "    #second line is p1 - pn\n",
    "    for i in range(n):\n",
    "        input_s += str(random.randint(0, 1000000)) + \" \"\n",
    "    input_s = input_s.rstrip()\n",
    "    input_s += \"\\n\"\n",
    "    #next n lines are travel times to each airport from each airport\n",
    "    for i in range(n):\n",
    "        for j in range(n):\n",
    "            if i == j:\n",
    "                input_s += \"0 \"\n",
    "            else:\n",
    "                input_s += str(random.randint(0, 1000000)) + \" \"\n",
    "        input_s = input_s.rstrip()\n",
    "        input_s += \"\\n\"\n",
    "    #the next m lines are flights, with (origin, destination, time) format\n",
    "    for i in range(m):\n",
    "        o, d = random.sample(range(1, n+1), 2)\n",
    "        input_s += str(o) + \" \"\n",
    "        input_s += str(d) + \" \"\n",
    "        input_s += str(random.randint(1, 1000000)) + \"\\n\"\n",
    "        \n",
    "    return input_s"
   ]
  },
  {
   "cell_type": "code",
   "execution_count": 94,
   "metadata": {
    "collapsed": false
   },
   "outputs": [],
   "source": [
    "def airport_input_to_dicts(airport_input):\n",
    "    problems = []\n",
    "    lines = airport_input.splitlines()\n",
    "    lines = [line.split(\" \") for line in lines]\n",
    "    \n",
    "    while lines:\n",
    "        problem = {}\n",
    "        problem['n'] = int(lines[0][0])\n",
    "        problem['m'] = int(lines[0][1])\n",
    "        problem[\"idle_times\"] = lines[1]\n",
    "        problem[\"airport_graph\"] = lines[2:2 + problem['n']]\n",
    "        problem[\"flights\"] = sorted(lines[2 + problem['n']:2 + problem['n'] + problem['m']], key = lambda flight: flight[2])\n",
    "        \n",
    "        lines = lines[2 + problem['n'] + problem['m']:]\n",
    "        problems.append(problem)\n",
    "    return problems\n",
    "\n",
    "def minimum_planes(problem_input):\n",
    "    \n",
    "    problems = airport_input_to_dicts(problem_input)\n",
    "    solutions = []\n",
    "    \n",
    "    for problem in problems:\n",
    "        \n",
    "        planes = []\n",
    "        m = problem['m']\n",
    "        n = problem['n']\n",
    "        flights = problem[\"flights\"]\n",
    "        graph = problem[\"airport_graph\"]\n",
    "        idle_times = problem[\"idle_times\"]\n",
    "        \n",
    "        for i in range(len(graph)):\n",
    "            for j in range(len(graph[i])):\n",
    "                if i != j:\n",
    "                    graph[i][j] = int(graph[i][j]) + int(idle_times[i])\n",
    "                else:\n",
    "                    graph[i][j] = 0\n",
    "                    \n",
    "        #find the shortest paths to each node in the graph from\n",
    "        #each origin and destination\n",
    "        shortest_path_time = get_shortest_paths(graph, flights)\n",
    "\n",
    "        #iterate throught the flights in time order\n",
    "        time = 0\n",
    "        while flights:\n",
    "            \n",
    "            next_flight = flights.pop(0)\n",
    "            #move time up\n",
    "            time = int(next_flight[2])\n",
    "            #see if there's a plane that can take the flight\n",
    "            available = None\n",
    "            for p in planes:\n",
    "                #if the plane can get from where it is to the airport the flight leaves from in time\n",
    "                #then that plane can carry the flight\n",
    "                if time - p[\"time\"] >= shortest_path_time[(p[\"location\"], next_flight[0])]:\n",
    "                    available = p\n",
    "                    break;\n",
    "                    \n",
    "            if available:\n",
    "                available[\"time\"] = time + shortest_path_time[(next_flight(0), next_flight(1))]\n",
    "                available[\"location\"] = next_flight(1)\n",
    "            else:\n",
    "                planes.append({\"time\": time + shortest_path_time[(next_flight(0), next_flight(1))],\n",
    "                              \"location\": next_flight(1)})\n",
    "                \n",
    "        solutions.append(len(planes))\n",
    "        \n",
    "    return solutions\n",
    "        "
   ]
  },
  {
   "cell_type": "code",
   "execution_count": 43,
   "metadata": {
    "collapsed": false
   },
   "outputs": [],
   "source": [
    "def brute_force_time(graph_size, origin_destination_set):\n",
    "    #assumes 10 cycles per path, 4GHz processor\n",
    "    o_g_perm = origin_destination_set * (origin_destination_set - 1)\n",
    "    intermediary_path_perm = sum([math.factorial(graph_size - 2)/math.factorial(graph_size - 2 - i) for i in range(graph_size - 1)])\n",
    "    paths = o_g_perm * intermediary_path_perm\n",
    "    cycles_per_path = 10\n",
    "    cycle_time = 1/(4 * math.pow(10, 9))\n",
    "    seconds_per_year = 60 * 60 * 24 * 365\n",
    "    return paths * cycles_per_path * cycle_time / seconds_per_year"
   ]
  },
  {
   "cell_type": "code",
   "execution_count": 64,
   "metadata": {
    "collapsed": false
   },
   "outputs": [
    {
     "data": {
      "text/plain": [
       "222.16421700475001"
      ]
     },
     "execution_count": 64,
     "metadata": {},
     "output_type": "execute_result"
    }
   ],
   "source": [
    "brute_force_time(16, 10) * 365 * 24"
   ]
  },
  {
   "cell_type": "code",
   "execution_count": 95,
   "metadata": {
    "collapsed": false
   },
   "outputs": [
    {
     "name": "stdout",
     "output_type": "stream",
     "text": [
      "[['0', '376879'], ['962420', '0']]\n",
      "{'2', '1'}\n",
      "['602281', '558810']\n",
      "[['0', '376879'], ['962420', '0']]\n",
      "[[0, 979160], [1521230, 0]]\n"
     ]
    }
   ],
   "source": [
    "minimum_planes(gen_problem_input(2,2))"
   ]
  }
 ],
 "metadata": {
  "kernelspec": {
   "display_name": "Python 3",
   "language": "python",
   "name": "python3"
  },
  "language_info": {
   "codemirror_mode": {
    "name": "ipython",
    "version": 3
   },
   "file_extension": ".py",
   "mimetype": "text/x-python",
   "name": "python",
   "nbconvert_exporter": "python",
   "pygments_lexer": "ipython3",
   "version": "3.5.2"
  }
 },
 "nbformat": 4,
 "nbformat_minor": 2
}
